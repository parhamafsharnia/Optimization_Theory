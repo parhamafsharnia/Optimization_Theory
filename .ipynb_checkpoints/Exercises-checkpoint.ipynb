{
 "cells": [
  {
   "cell_type": "code",
   "execution_count": 113,
   "id": "11d38f9e",
   "metadata": {
    "ExecuteTime": {
     "end_time": "2023-10-20T05:59:39.082929Z",
     "start_time": "2023-10-20T05:59:39.079328Z"
    }
   },
   "outputs": [],
   "source": [
    "import numpy as np"
   ]
  },
  {
   "cell_type": "code",
   "execution_count": 114,
   "id": "71bbb3c9",
   "metadata": {
    "ExecuteTime": {
     "end_time": "2023-10-20T05:59:39.300967Z",
     "start_time": "2023-10-20T05:59:39.293987Z"
    },
    "code_folding": []
   },
   "outputs": [],
   "source": [
    "# implementing a vector generator\n",
    "def vectorGenerator(lower_bound=-10, \n",
    "                    upper_bound=10,\n",
    "                    row_number=5):\n",
    "    import random\n",
    "    import numpy as np\n",
    "    # list of row_number elements, going between lower_bound and upper_bound\n",
    "    lst = [random.randint(lower_bound, upper_bound) for _ in range(row_number)]\n",
    "    return np.transpose(np.array([lst]))\n",
    "# https://www2.lawrence.edu/fast/GREGGJ/Python/numpy/numpyLA.html\n",
    "\n",
    "# implementing a simple dot product function\n",
    "def dotProduct(vec1, vec2):\n",
    "    sumResult = 0\n",
    "    for i in range (len(vec1)):\n",
    "        sumResult += vec1[i, 0] * vec2[i, 0]\n",
    "    return sumResult\n",
    "\n",
    "def vecNorm(vec):\n",
    "    import math\n",
    "    sumResult = 0\n",
    "    for e in range(len(vec)):\n",
    "        sumResult += vec[e, 0] ** 2\n",
    "    return math.sqrt(sumResult)"
   ]
  },
  {
   "cell_type": "markdown",
   "id": "89391293",
   "metadata": {
    "ExecuteTime": {
     "end_time": "2023-10-18T15:40:21.037464Z",
     "start_time": "2023-10-18T15:40:21.031477Z"
    }
   },
   "source": [
    "### Projection Formula\n",
    "projecting x2 on x1:\n",
    "    xt = (x1 . x2 / ||x1|| ^ 2) * x1"
   ]
  },
  {
   "cell_type": "code",
   "execution_count": 115,
   "id": "e4f20584",
   "metadata": {
    "ExecuteTime": {
     "end_time": "2023-10-20T05:59:39.930445Z",
     "start_time": "2023-10-20T05:59:39.926459Z"
    }
   },
   "outputs": [],
   "source": [
    "# v1 onto v2\n",
    "def vectorProjection(vec1, onto):\n",
    "    return (dotProduct(vec1=vec1, vec2=onto) / (vecNorm(vec=onto)) ** 2) * onto"
   ]
  },
  {
   "cell_type": "code",
   "execution_count": 130,
   "id": "d815b26c",
   "metadata": {
    "ExecuteTime": {
     "end_time": "2023-10-20T06:03:27.477665Z",
     "start_time": "2023-10-20T06:03:27.470688Z"
    }
   },
   "outputs": [
    {
     "data": {
      "text/plain": [
       "array([[ 7],\n",
       "       [ 0],\n",
       "       [-2],\n",
       "       [-4],\n",
       "       [ 1]])"
      ]
     },
     "execution_count": 130,
     "metadata": {},
     "output_type": "execute_result"
    }
   ],
   "source": [
    "vec1 = vectorGenerator()\n",
    "vec2 = vectorGenerator()\n",
    "vectorProjection(vec1, vec2)\n",
    "vec1"
   ]
  },
  {
   "cell_type": "markdown",
   "id": "469ac5a8",
   "metadata": {},
   "source": [
    "# Gram schmidt"
   ]
  },
  {
   "cell_type": "code",
   "execution_count": 117,
   "id": "93fb605d",
   "metadata": {
    "ExecuteTime": {
     "end_time": "2023-10-20T05:59:41.243754Z",
     "start_time": "2023-10-20T05:59:41.238421Z"
    }
   },
   "outputs": [],
   "source": [
    "from sympy import *\n",
    "# init_printing(use_unicode=True)\n",
    "\n",
    "def matrixGenerator(lower=-10, upper=10, dimensions=(4, 4)):\n",
    "    return np.random.randint(lower, upper, dimensions)"
   ]
  },
  {
   "cell_type": "code",
   "execution_count": 118,
   "id": "d0031fe3",
   "metadata": {
    "ExecuteTime": {
     "end_time": "2023-10-20T05:59:41.564272Z",
     "start_time": "2023-10-20T05:59:41.558777Z"
    }
   },
   "outputs": [
    {
     "data": {
      "text/plain": [
       "array([[ -3,   1,  -5,   6],\n",
       "       [-10,  -2,   3,  -6],\n",
       "       [ -2,  -8,   9,   2],\n",
       "       [ -3,  -4,   7,  -9]])"
      ]
     },
     "execution_count": 118,
     "metadata": {},
     "output_type": "execute_result"
    }
   ],
   "source": [
    "randomMatrix = matrixGenerator()\n",
    "randomMatrix"
   ]
  },
  {
   "cell_type": "code",
   "execution_count": 119,
   "id": "722a7255",
   "metadata": {
    "ExecuteTime": {
     "end_time": "2023-10-20T05:59:41.999457Z",
     "start_time": "2023-10-20T05:59:41.990341Z"
    }
   },
   "outputs": [
    {
     "data": {
      "text/plain": [
       "([array([ -3, -10,  -2,  -3]),\n",
       "  array([ 1, -2, -8, -4]),\n",
       "  array([-5,  3,  9,  7]),\n",
       "  array([ 6, -6,  2, -9])],\n",
       " 4)"
      ]
     },
     "execution_count": 119,
     "metadata": {},
     "output_type": "execute_result"
    }
   ],
   "source": [
    "# matrix =np.array([[12,5,-4,3],[-6,2,0,-10],[-4,0,8,11],[2,7,4,4]]) \n",
    "# randomMatrix= matrix\n",
    "matrixObj = Matrix(randomMatrix)\n",
    "rref = matrixObj.rref()\n",
    "colSpace = rref[1]\n",
    "rank = len(colSpace)\n",
    "basis = []\n",
    "for item in colSpace:\n",
    "    basis.append(randomMatrix[:, item])\n",
    "basis, rank"
   ]
  },
  {
   "cell_type": "code",
   "execution_count": 135,
   "id": "0c066896",
   "metadata": {
    "ExecuteTime": {
     "end_time": "2023-10-20T06:07:47.045136Z",
     "start_time": "2023-10-20T06:07:47.039636Z"
    }
   },
   "outputs": [],
   "source": [
    "basis = np.array(basis)\n",
    "ortho = np.zeros(basis.shape)\n",
    "\n",
    "# print(A.shape[1])\n",
    "def gs(vec):\n",
    "    ortho = np.zeros(basis.shape)\n",
    "    for Col in range(basis.shape[1]):\n",
    "        avec = basis[Col]\n",
    "        q = avec # X1=span(x1)\n",
    "        for j in range(k):\n",
    "            q = q - (dotProduct(avec, ortho[:, j]) * ortho[:, j])\n",
    "        ortho[:, k] = q / np.linalg.norm(q)\n",
    "    return ortho"
   ]
  },
  {
   "cell_type": "code",
   "execution_count": 136,
   "id": "94fdbb89",
   "metadata": {
    "ExecuteTime": {
     "end_time": "2023-10-20T06:07:47.749091Z",
     "start_time": "2023-10-20T06:07:47.743371Z"
    }
   },
   "outputs": [
    {
     "data": {
      "text/plain": [
       "array([[0.84515425, 0.        , 0.        ],\n",
       "       [0.16903085, 0.        , 0.        ],\n",
       "       [0.50709255, 0.        , 0.        ]])"
      ]
     },
     "execution_count": 136,
     "metadata": {},
     "output_type": "execute_result"
    }
   ],
   "source": [
    "basis = np.array([[1,1,1],[2,1,0],[5,1,3]])\n",
    "gs(basis)"
   ]
  },
  {
   "cell_type": "code",
   "execution_count": null,
   "id": "b38ecd92",
   "metadata": {},
   "outputs": [],
   "source": [
    "gram schmidt {{1,1,1},{2,1,0},{5,1,3}}"
   ]
  }
 ],
 "metadata": {
  "kernelspec": {
   "display_name": "Python 3 (ipykernel)",
   "language": "python",
   "name": "python3"
  },
  "language_info": {
   "codemirror_mode": {
    "name": "ipython",
    "version": 3
   },
   "file_extension": ".py",
   "mimetype": "text/x-python",
   "name": "python",
   "nbconvert_exporter": "python",
   "pygments_lexer": "ipython3",
   "version": "3.10.1"
  }
 },
 "nbformat": 4,
 "nbformat_minor": 5
}
