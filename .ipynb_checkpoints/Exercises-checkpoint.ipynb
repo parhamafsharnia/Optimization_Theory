{
 "cells": [
  {
   "cell_type": "code",
   "execution_count": 1,
   "id": "11d38f9e",
   "metadata": {
    "ExecuteTime": {
     "end_time": "2023-10-20T08:54:34.277065Z",
     "start_time": "2023-10-20T08:54:33.481331Z"
    }
   },
   "outputs": [],
   "source": [
    "import numpy as np"
   ]
  },
  {
   "cell_type": "code",
   "execution_count": 2,
   "id": "8ff7bcf6",
   "metadata": {
    "ExecuteTime": {
     "end_time": "2023-10-20T08:55:14.249652Z",
     "start_time": "2023-10-20T08:55:14.235648Z"
    }
   },
   "outputs": [
    {
     "data": {
      "text/plain": [
       "array([[  4],\n",
       "       [ -7],\n",
       "       [  3],\n",
       "       [-10],\n",
       "       [  7]])"
      ]
     },
     "execution_count": 2,
     "metadata": {},
     "output_type": "execute_result"
    }
   ],
   "source": [
    "np.random.randint(-10, 10, (5,1))"
   ]
  },
  {
   "cell_type": "code",
   "execution_count": 14,
   "id": "c86ef0d9",
   "metadata": {
    "ExecuteTime": {
     "end_time": "2023-10-20T09:00:34.911610Z",
     "start_time": "2023-10-20T09:00:34.903628Z"
    },
    "code_folding": []
   },
   "outputs": [
    {
     "data": {
      "text/plain": [
       "array([[-3, -2, -7, -1, -6]])"
      ]
     },
     "execution_count": 14,
     "metadata": {},
     "output_type": "execute_result"
    }
   ],
   "source": [
    "# implementing a vector generator\n",
    "def vectorGenerator(lower_bound=-10, \n",
    "                    upper_bound=10,\n",
    "                    size=(5,1),\n",
    "                    transpose=True):\n",
    "    import numpy as np\n",
    "    if transpose:\n",
    "        return np.transpose(np.random.randint(-10, 10, (5,1)))\n",
    "    return np.random.randint(-10, 10, (5,1))\n",
    "vectorGenerator()"
   ]
  },
  {
   "cell_type": "code",
   "execution_count": 22,
   "id": "a7212d6f",
   "metadata": {
    "ExecuteTime": {
     "end_time": "2023-10-20T09:03:10.345392Z",
     "start_time": "2023-10-20T09:03:10.337443Z"
    }
   },
   "outputs": [
    {
     "data": {
      "text/plain": [
       "(array([[-5,  7,  6, -4, -1]]), array([[-3,  5,  8,  7,  4]]))"
      ]
     },
     "execution_count": 22,
     "metadata": {},
     "output_type": "execute_result"
    }
   ],
   "source": [
    "v1 = vectorGenerator()\n",
    "v2 = vectorGenerator()\n",
    "v1, v2"
   ]
  },
  {
   "cell_type": "code",
   "execution_count": 34,
   "id": "eb4f2a9e",
   "metadata": {
    "ExecuteTime": {
     "end_time": "2023-10-20T09:05:45.108610Z",
     "start_time": "2023-10-20T09:05:45.100633Z"
    },
    "code_folding": []
   },
   "outputs": [
    {
     "data": {
      "text/plain": [
       "66"
      ]
     },
     "execution_count": 34,
     "metadata": {},
     "output_type": "execute_result"
    }
   ],
   "source": [
    "# implementing a simple dot product function\n",
    "# def dotProduct(vec1, vec2):\n",
    "#     sumResult = 0\n",
    "#     for i in range (len(vec1[0])):\n",
    "#         sumResult += (vec1[0, i] * vec2[0, i])\n",
    "#     return sumResult\n",
    "\n",
    "# dotProduct(vec1=v1,vec2=v2)"
   ]
  },
  {
   "cell_type": "code",
   "execution_count": 37,
   "id": "71bbb3c9",
   "metadata": {
    "ExecuteTime": {
     "end_time": "2023-10-20T09:08:56.487023Z",
     "start_time": "2023-10-20T09:08:56.480231Z"
    },
    "code_folding": []
   },
   "outputs": [
    {
     "data": {
      "text/plain": [
       "11.269427669584644"
      ]
     },
     "execution_count": 37,
     "metadata": {},
     "output_type": "execute_result"
    }
   ],
   "source": [
    "# def vecNorm(vec):\n",
    "#     import math\n",
    "#     sumResult = 0\n",
    "#     for e in range(len(vec[0])):\n",
    "#         sumResult += vec[0, e] ** 2\n",
    "#     return math.sqrt(sumResult)\n",
    "# vecNorm(v1)"
   ]
  },
  {
   "cell_type": "markdown",
   "id": "89391293",
   "metadata": {
    "ExecuteTime": {
     "end_time": "2023-10-18T15:40:21.037464Z",
     "start_time": "2023-10-18T15:40:21.031477Z"
    }
   },
   "source": [
    "### Projection Formula\n",
    "projecting x2 on x1:\n",
    "    xt = (x1 . x2 / ||x1|| ^ 2) * x1"
   ]
  },
  {
   "cell_type": "code",
   "execution_count": 84,
   "id": "e4f20584",
   "metadata": {
    "ExecuteTime": {
     "end_time": "2023-10-20T09:27:30.317409Z",
     "start_time": "2023-10-20T09:27:30.312535Z"
    }
   },
   "outputs": [],
   "source": [
    "# v1 onto v2\n",
    "def vectorProjection(vec1, onto):\n",
    "    return (np.dot(a=vec1[0], b=onto[0]) / (np.linalg.norm(x=onto[0])) ** 2) * onto"
   ]
  },
  {
   "cell_type": "code",
   "execution_count": 85,
   "id": "d815b26c",
   "metadata": {
    "ExecuteTime": {
     "end_time": "2023-10-20T09:27:31.295111Z",
     "start_time": "2023-10-20T09:27:31.288972Z"
    }
   },
   "outputs": [
    {
     "data": {
      "text/plain": [
       "array([[ 6.31578947, -1.57894737, -1.57894737, -6.31578947,  3.15789474]])"
      ]
     },
     "execution_count": 85,
     "metadata": {},
     "output_type": "execute_result"
    }
   ],
   "source": [
    "vec1 = vectorGenerator()\n",
    "vec2 = vectorGenerator()\n",
    "vectorProjection(vec1, vec2)"
   ]
  },
  {
   "cell_type": "markdown",
   "id": "469ac5a8",
   "metadata": {},
   "source": [
    "# Gram schmidt"
   ]
  },
  {
   "cell_type": "code",
   "execution_count": 94,
   "id": "93fb605d",
   "metadata": {
    "ExecuteTime": {
     "end_time": "2023-10-20T09:34:20.579415Z",
     "start_time": "2023-10-20T09:34:20.572407Z"
    }
   },
   "outputs": [],
   "source": [
    "from sympy import *\n",
    "# init_printing(use_unicode=True)\n",
    "\n",
    "def matrixGenerator(lower=-10, upper=10, dimensions=(4, 4)):\n",
    "    return np.random.randint(lower, upper, dimensions)"
   ]
  },
  {
   "cell_type": "code",
   "execution_count": 95,
   "id": "d0031fe3",
   "metadata": {
    "ExecuteTime": {
     "end_time": "2023-10-20T09:34:20.986431Z",
     "start_time": "2023-10-20T09:34:20.980420Z"
    }
   },
   "outputs": [
    {
     "data": {
      "text/plain": [
       "array([[ -8,   4,   5,   8],\n",
       "       [  9, -10,  -2,   8],\n",
       "       [  6,   0,  -4,   9],\n",
       "       [ -5,   3,   0,   1]])"
      ]
     },
     "execution_count": 95,
     "metadata": {},
     "output_type": "execute_result"
    }
   ],
   "source": [
    "randomMatrix = matrixGenerator()\n",
    "randomMatrix"
   ]
  },
  {
   "cell_type": "code",
   "execution_count": 96,
   "id": "722a7255",
   "metadata": {
    "ExecuteTime": {
     "end_time": "2023-10-20T09:34:22.119564Z",
     "start_time": "2023-10-20T09:34:22.109587Z"
    }
   },
   "outputs": [
    {
     "data": {
      "text/plain": [
       "([array([-8,  9,  6, -5]),\n",
       "  array([  4, -10,   0,   3]),\n",
       "  array([ 5, -2, -4,  0]),\n",
       "  array([8, 8, 9, 1])],\n",
       " 4)"
      ]
     },
     "execution_count": 96,
     "metadata": {},
     "output_type": "execute_result"
    }
   ],
   "source": [
    "# matrix =np.array([[12,5,-4,3],[-6,2,0,-10],[-4,0,8,11],[2,7,4,4]]) \n",
    "# randomMatrix= matrix\n",
    "matrixObj = Matrix(randomMatrix)\n",
    "rref = matrixObj.rref()\n",
    "colSpace = rref[1]\n",
    "rank = len(colSpace)\n",
    "basis = []\n",
    "for item in colSpace:\n",
    "    basis.append(randomMatrix[:, item])\n",
    "basis, rank"
   ]
  },
  {
   "cell_type": "code",
   "execution_count": 97,
   "id": "f429801c",
   "metadata": {
    "ExecuteTime": {
     "end_time": "2023-10-20T09:34:25.466391Z",
     "start_time": "2023-10-20T09:34:25.460401Z"
    }
   },
   "outputs": [
    {
     "data": {
      "text/plain": [
       "array([[ -8,   9,   6,  -5],\n",
       "       [  4, -10,   0,   3],\n",
       "       [  5,  -2,  -4,   0],\n",
       "       [  8,   8,   9,   1]])"
      ]
     },
     "execution_count": 97,
     "metadata": {},
     "output_type": "execute_result"
    }
   ],
   "source": [
    "basis = np.array(basis)\n",
    "basis"
   ]
  },
  {
   "cell_type": "code",
   "execution_count": 99,
   "id": "00952c9d",
   "metadata": {
    "ExecuteTime": {
     "end_time": "2023-10-20T09:34:33.198385Z",
     "start_time": "2023-10-20T09:34:33.192509Z"
    }
   },
   "outputs": [
    {
     "data": {
      "text/plain": [
       "array([-8,  9,  6, -5])"
      ]
     },
     "execution_count": 99,
     "metadata": {},
     "output_type": "execute_result"
    }
   ],
   "source": [
    "basis = np.array(basis)\n",
    "ortho = np.zeros(basis.shape)\n",
    "lst = []\n",
    "lst.append(basis[0])\n",
    "lst[0]\n"
   ]
  },
  {
   "cell_type": "code",
   "execution_count": 136,
   "id": "f9db13ec",
   "metadata": {
    "ExecuteTime": {
     "end_time": "2023-10-20T09:47:23.187120Z",
     "start_time": "2023-10-20T09:47:23.180505Z"
    },
    "scrolled": true
   },
   "outputs": [
    {
     "data": {
      "text/plain": [
       "array([ 0. , -5.5,  3. ,  0.5])"
      ]
     },
     "execution_count": 136,
     "metadata": {},
     "output_type": "execute_result"
    }
   ],
   "source": [
    "r2 = basis[1] - vectorProjection(vec1=basis[1], onto=lst[0])\n",
    "r2"
   ]
  },
  {
   "cell_type": "code",
   "execution_count": 144,
   "id": "d519a132",
   "metadata": {
    "ExecuteTime": {
     "end_time": "2023-10-20T09:50:34.595249Z",
     "start_time": "2023-10-20T09:50:34.589955Z"
    }
   },
   "outputs": [
    {
     "name": "stdout",
     "output_type": "stream",
     "text": [
      "None\n",
      "None\n",
      "None\n"
     ]
    },
    {
     "name": "stderr",
     "output_type": "stream",
     "text": [
      "C:\\Users\\parha\\AppData\\Local\\Temp/ipykernel_9496/1861829973.py:3: RuntimeWarning: invalid value encountered in double_scalars\n",
      "  return (np.dot(a=vec1[0], b=onto[0]) / (np.linalg.norm(x=onto[0])) ** 2) * onto\n"
     ]
    }
   ],
   "source": [
    "# print(len(basis))\n",
    "for i in range(1, len(basis)):\n",
    "    for j in range(\n",
    "    r2 = basis[i] - vectorProjection(vec1=basis[i], onto=lst[i-1])\n",
    "    lst.append(r2)\n",
    "    print(r2)"
   ]
  },
  {
   "cell_type": "code",
   "execution_count": 57,
   "id": "0c066896",
   "metadata": {
    "ExecuteTime": {
     "end_time": "2023-10-20T09:15:51.635345Z",
     "start_time": "2023-10-20T09:15:51.629556Z"
    }
   },
   "outputs": [],
   "source": []
  },
  {
   "cell_type": "code",
   "execution_count": 58,
   "id": "94fdbb89",
   "metadata": {
    "ExecuteTime": {
     "end_time": "2023-10-20T09:15:52.355598Z",
     "start_time": "2023-10-20T09:15:52.340497Z"
    }
   },
   "outputs": [
    {
     "ename": "IndexError",
     "evalue": "index 4 is out of bounds for axis 1 with size 4",
     "output_type": "error",
     "traceback": [
      "\u001b[1;31m---------------------------------------------------------------------------\u001b[0m",
      "\u001b[1;31mIndexError\u001b[0m                                Traceback (most recent call last)",
      "\u001b[1;32m~\\AppData\\Local\\Temp/ipykernel_9496/2091577224.py\u001b[0m in \u001b[0;36m<module>\u001b[1;34m\u001b[0m\n\u001b[0;32m      1\u001b[0m \u001b[1;31m# basis = np.array([[1,1,1],[2,1,0],[5,1,3]])\u001b[0m\u001b[1;33m\u001b[0m\u001b[1;33m\u001b[0m\u001b[0m\n\u001b[1;32m----> 2\u001b[1;33m \u001b[0mgs\u001b[0m\u001b[1;33m(\u001b[0m\u001b[0mbasis\u001b[0m\u001b[1;33m)\u001b[0m\u001b[1;33m\u001b[0m\u001b[1;33m\u001b[0m\u001b[0m\n\u001b[0m",
      "\u001b[1;32m~\\AppData\\Local\\Temp/ipykernel_9496/3564450150.py\u001b[0m in \u001b[0;36mgs\u001b[1;34m(vec)\u001b[0m\n\u001b[0;32m     10\u001b[0m         \u001b[1;32mfor\u001b[0m \u001b[0mj\u001b[0m \u001b[1;32min\u001b[0m \u001b[0mrange\u001b[0m\u001b[1;33m(\u001b[0m\u001b[0mbasis\u001b[0m\u001b[1;33m.\u001b[0m\u001b[0mshape\u001b[0m\u001b[1;33m[\u001b[0m\u001b[1;36m0\u001b[0m\u001b[1;33m]\u001b[0m\u001b[1;33m)\u001b[0m\u001b[1;33m:\u001b[0m\u001b[1;33m\u001b[0m\u001b[1;33m\u001b[0m\u001b[0m\n\u001b[0;32m     11\u001b[0m             \u001b[0mq\u001b[0m \u001b[1;33m=\u001b[0m \u001b[0mq\u001b[0m \u001b[1;33m-\u001b[0m \u001b[1;33m(\u001b[0m\u001b[0mnp\u001b[0m\u001b[1;33m.\u001b[0m\u001b[0mdot\u001b[0m\u001b[1;33m(\u001b[0m\u001b[0mavec\u001b[0m\u001b[1;33m,\u001b[0m \u001b[0mortho\u001b[0m\u001b[1;33m[\u001b[0m\u001b[1;33m:\u001b[0m\u001b[1;33m,\u001b[0m \u001b[0mj\u001b[0m\u001b[1;33m]\u001b[0m\u001b[1;33m)\u001b[0m \u001b[1;33m*\u001b[0m \u001b[0mortho\u001b[0m\u001b[1;33m[\u001b[0m\u001b[1;33m:\u001b[0m\u001b[1;33m,\u001b[0m \u001b[0mj\u001b[0m\u001b[1;33m]\u001b[0m\u001b[1;33m)\u001b[0m\u001b[1;33m\u001b[0m\u001b[1;33m\u001b[0m\u001b[0m\n\u001b[1;32m---> 12\u001b[1;33m         \u001b[0mortho\u001b[0m\u001b[1;33m[\u001b[0m\u001b[1;33m:\u001b[0m\u001b[1;33m,\u001b[0m \u001b[0mbasis\u001b[0m\u001b[1;33m.\u001b[0m\u001b[0mshape\u001b[0m\u001b[1;33m[\u001b[0m\u001b[1;36m0\u001b[0m\u001b[1;33m]\u001b[0m\u001b[1;33m]\u001b[0m \u001b[1;33m=\u001b[0m \u001b[0mq\u001b[0m \u001b[1;33m/\u001b[0m \u001b[0mnp\u001b[0m\u001b[1;33m.\u001b[0m\u001b[0mlinalg\u001b[0m\u001b[1;33m.\u001b[0m\u001b[0mnorm\u001b[0m\u001b[1;33m(\u001b[0m\u001b[0mq\u001b[0m\u001b[1;33m)\u001b[0m\u001b[1;33m\u001b[0m\u001b[1;33m\u001b[0m\u001b[0m\n\u001b[0m\u001b[0;32m     13\u001b[0m     \u001b[1;32mreturn\u001b[0m \u001b[0mortho\u001b[0m\u001b[1;33m\u001b[0m\u001b[1;33m\u001b[0m\u001b[0m\n",
      "\u001b[1;31mIndexError\u001b[0m: index 4 is out of bounds for axis 1 with size 4"
     ]
    }
   ],
   "source": [
    "# basis = np.array([[1,1,1],[2,1,0],[5,1,3]])\n",
    "gs(basis)"
   ]
  },
  {
   "cell_type": "code",
   "execution_count": null,
   "id": "b38ecd92",
   "metadata": {},
   "outputs": [],
   "source": [
    "gram schmidt {{1,1,1},{2,1,0},{5,1,3}}"
   ]
  }
 ],
 "metadata": {
  "kernelspec": {
   "display_name": "Python 3 (ipykernel)",
   "language": "python",
   "name": "python3"
  },
  "language_info": {
   "codemirror_mode": {
    "name": "ipython",
    "version": 3
   },
   "file_extension": ".py",
   "mimetype": "text/x-python",
   "name": "python",
   "nbconvert_exporter": "python",
   "pygments_lexer": "ipython3",
   "version": "3.10.1"
  }
 },
 "nbformat": 4,
 "nbformat_minor": 5
}
