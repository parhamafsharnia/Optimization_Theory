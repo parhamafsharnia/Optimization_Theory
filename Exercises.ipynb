{
 "cells": [
  {
   "cell_type": "code",
   "execution_count": 1,
   "id": "11d38f9e",
   "metadata": {
    "ExecuteTime": {
     "end_time": "2023-10-20T12:29:35.626198Z",
     "start_time": "2023-10-20T12:29:35.481583Z"
    }
   },
   "outputs": [],
   "source": [
    "import numpy as np"
   ]
  },
  {
   "cell_type": "code",
   "execution_count": 2,
   "id": "37832763",
   "metadata": {
    "ExecuteTime": {
     "end_time": "2023-10-20T12:29:36.484859Z",
     "start_time": "2023-10-20T12:29:36.470519Z"
    },
    "code_folding": []
   },
   "outputs": [
    {
     "data": {
      "text/plain": [
       "array([[-6,  4,  7, -3,  4]])"
      ]
     },
     "execution_count": 2,
     "metadata": {},
     "output_type": "execute_result"
    }
   ],
   "source": [
    "# using this function to generate random vector\n",
    "def vectorGenerator(lower_bound=-10, \n",
    "                    upper_bound=10,\n",
    "                    size=(5,1),\n",
    "                    transpose=True):\n",
    "    import numpy as np\n",
    "    if transpose:\n",
    "        return np.transpose(np.random.randint(-10, 10, (5,1)))\n",
    "    return np.random.randint(-10, 10, (5,1))\n",
    "vectorGenerator()"
   ]
  },
  {
   "cell_type": "markdown",
   "id": "89391293",
   "metadata": {
    "ExecuteTime": {
     "end_time": "2023-10-18T15:40:21.037464Z",
     "start_time": "2023-10-18T15:40:21.031477Z"
    }
   },
   "source": [
    "### Projection Formula\n",
    "In this section, I've implemented vector projection.<br>\n",
    "projecting x2 on x1 is:<br>\n",
    "<h3><center>$ \\overrightarrow{x_t}  = ( \\frac{\\overrightarrow{x_1} \\cdot \\overrightarrow{x_2}}{||\\overrightarrow{x_1}||^2} ) * \\overrightarrow{x_1}$</center></h3>\n",
    "using self-generated vector generator as <b>inputs</b> of function below \n",
    "will return a vector corresponding to $\\overrightarrow{x_t}$ as an <b>output</b>.\n",
    "\n",
    "related operations to this formula such as [dot product](https://numpy.org/doc/stable/reference/generated/numpy.dot.html) and [length of a vector](https://numpy.org/doc/stable/reference/generated/numpy.dot.html) are handled by usnig numpy. "
   ]
  },
  {
   "cell_type": "code",
   "execution_count": 3,
   "id": "e4f20584",
   "metadata": {
    "ExecuteTime": {
     "end_time": "2023-10-20T12:29:37.345540Z",
     "start_time": "2023-10-20T12:29:37.341583Z"
    }
   },
   "outputs": [],
   "source": [
    "def vectorProjection(vec1, onto):\n",
    "    return (np.dot(a=vec1[0], b=onto[0]) / (np.linalg.norm(x=onto[0])) ** 2) * onto"
   ]
  },
  {
   "cell_type": "code",
   "execution_count": 4,
   "id": "d815b26c",
   "metadata": {
    "ExecuteTime": {
     "end_time": "2023-10-20T12:29:37.913468Z",
     "start_time": "2023-10-20T12:29:37.905459Z"
    }
   },
   "outputs": [
    {
     "data": {
      "text/plain": [
       "array([[ 0.60759494],\n",
       "       [-0.10126582],\n",
       "       [-0.60759494],\n",
       "       [ 0.70886076],\n",
       "       [ 0.60759494]])"
      ]
     },
     "execution_count": 4,
     "metadata": {},
     "output_type": "execute_result"
    }
   ],
   "source": [
    "vec1 = vectorGenerator()\n",
    "vec2 = vectorGenerator()\n",
    "# np.transpose to represent vector as 1 column and m rows\n",
    "np.transpose(vectorProjection(vec1, vec2))"
   ]
  },
  {
   "cell_type": "markdown",
   "id": "469ac5a8",
   "metadata": {},
   "source": [
    "# Gram schmidt\n",
    "matrixGenerator function is simply generates random matrix."
   ]
  },
  {
   "cell_type": "code",
   "execution_count": 5,
   "id": "93fb605d",
   "metadata": {
    "ExecuteTime": {
     "end_time": "2023-10-20T12:29:39.683193Z",
     "start_time": "2023-10-20T12:29:39.081972Z"
    }
   },
   "outputs": [
    {
     "data": {
      "text/plain": [
       "array([[-10,  -2,  -9,  -4],\n",
       "       [  1,   7,  -8,   9],\n",
       "       [ -4,  -1,   1,  -8],\n",
       "       [  8,  -2,   8,  -8]])"
      ]
     },
     "execution_count": 5,
     "metadata": {},
     "output_type": "execute_result"
    }
   ],
   "source": [
    "from sympy import *\n",
    "def matrixGenerator(lower=-10, upper=10, dimensions=(4, 4)):\n",
    "    return np.random.randint(lower, upper, dimensions)\n",
    "matrixGenerator()"
   ]
  },
  {
   "cell_type": "code",
   "execution_count": 6,
   "id": "d0031fe3",
   "metadata": {
    "ExecuteTime": {
     "end_time": "2023-10-20T12:29:39.692172Z",
     "start_time": "2023-10-20T12:29:39.685164Z"
    }
   },
   "outputs": [
    {
     "data": {
      "text/plain": [
       "array([[  4,   5,   1, -10],\n",
       "       [ -4,   8,   7, -10],\n",
       "       [  8,  -7,  -4,  -1],\n",
       "       [ -6,   6,  -2,   1]])"
      ]
     },
     "execution_count": 6,
     "metadata": {},
     "output_type": "execute_result"
    }
   ],
   "source": [
    "randomMatrix = matrixGenerator()\n",
    "randomMatrix"
   ]
  },
  {
   "cell_type": "markdown",
   "id": "2aab21a9",
   "metadata": {},
   "source": [
    "lines below  will transfer matrix using reduced row echelone form implemented in sympy in order to find <b>basis</b> in original matrix.\n",
    "as we now from linear algebra, leading ones in rref are basis to the matrix.\n",
    "\n",
    "In this section, I will run my gram schmidt function on these columns in order to get orthogonal basis for the same vector space.\n",
    "relatively, <b>rank</b> of the matrix is columns which are linearly independant.\n",
    "\n",
    "<b>input</b> of my gramSchmidt functions is basis of the random generated matrix. and new orthogonal basis for the vector space is the <b>output<b/>\n",
    "\n",
    "orthogonal basis: \n",
    "    <br>1- linearly independant\n",
    "    <br>2- normalized"
   ]
  },
  {
   "cell_type": "code",
   "execution_count": 7,
   "id": "722a7255",
   "metadata": {
    "ExecuteTime": {
     "end_time": "2023-10-20T12:29:42.125149Z",
     "start_time": "2023-10-20T12:29:42.114177Z"
    }
   },
   "outputs": [
    {
     "data": {
      "text/plain": [
       "([array([ 4, -4,  8, -6]),\n",
       "  array([ 5,  8, -7,  6]),\n",
       "  array([ 1,  7, -4, -2]),\n",
       "  array([-10, -10,  -1,   1])],\n",
       " 4)"
      ]
     },
     "execution_count": 7,
     "metadata": {},
     "output_type": "execute_result"
    }
   ],
   "source": [
    "# Example: matrix =np.array([[12,5,-4,3],[-6,2,0,-10],[-4,0,8,11],[2,7,4,4]]) \n",
    "# randomMatrix= matrix\n",
    "matrixObj = Matrix(randomMatrix)\n",
    "rref = matrixObj.rref()\n",
    "colSpace = rref[1]\n",
    "rank = len(colSpace)\n",
    "basis = []\n",
    "for item in colSpace:\n",
    "    basis.append(randomMatrix[:, item])\n",
    "basis, rank"
   ]
  },
  {
   "cell_type": "code",
   "execution_count": 8,
   "id": "55ffe6b9",
   "metadata": {
    "ExecuteTime": {
     "end_time": "2023-10-20T12:29:43.516991Z",
     "start_time": "2023-10-20T12:29:43.506307Z"
    }
   },
   "outputs": [
    {
     "data": {
      "text/plain": [
       "[array([ 0.34815531, -0.34815531,  0.69631062, -0.52223297]),\n",
       " array([-0.20591947,  0.48047876, -0.54911858,  0.65207831]),\n",
       " array([0.25663533, 0.6330338 , 0.06843609, 0.72713342]),\n",
       " array([ 0.46468081, -0.18784969,  0.79094605, -0.35098231])]"
      ]
     },
     "execution_count": 8,
     "metadata": {},
     "output_type": "execute_result"
    }
   ],
   "source": [
    "def gramSchmidt(matrix):\n",
    "    matrix = np.array(matrix)\n",
    "    if len(matrix) == 0: return\n",
    "    lst = []\n",
    "    r1 = basis[0]\n",
    "    lst.append(r1)\n",
    "    # for loop corresponding to gram schmidt formula\n",
    "    for col in range(1, len(basis)):\n",
    "        q = col\n",
    "        for j in range(len(lst)):\n",
    "            q += (q - vectorProjection(vec1=basis[col], onto=lst[j]))\n",
    "        lst.append(q)\n",
    "        # normalization\n",
    "    for i in range(len(lst)):\n",
    "        norm = np.linalg.norm(lst[i])\n",
    "        lst[i] = lst[i] / norm\n",
    "    return lst\n",
    "gramSchmidt(matrix=basis)"
   ]
  },
  {
   "cell_type": "code",
   "execution_count": 9,
   "id": "532e0ad0",
   "metadata": {
    "ExecuteTime": {
     "end_time": "2023-10-20T12:29:44.683168Z",
     "start_time": "2023-10-20T12:29:44.675566Z"
    }
   },
   "outputs": [
    {
     "data": {
      "text/plain": [
       "array([[ 0.34815531, -0.20591947,  0.25663533,  0.46468081],\n",
       "       [-0.34815531,  0.48047876,  0.6330338 , -0.18784969],\n",
       "       [ 0.69631062, -0.54911858,  0.06843609,  0.79094605],\n",
       "       [-0.52223297,  0.65207831,  0.72713342, -0.35098231]])"
      ]
     },
     "execution_count": 9,
     "metadata": {},
     "output_type": "execute_result"
    }
   ],
   "source": [
    "np.transpose(gramSchmidt(matrix=basis))"
   ]
  }
 ],
 "metadata": {
  "kernelspec": {
   "display_name": "Python 3 (ipykernel)",
   "language": "python",
   "name": "python3"
  },
  "language_info": {
   "codemirror_mode": {
    "name": "ipython",
    "version": 3
   },
   "file_extension": ".py",
   "mimetype": "text/x-python",
   "name": "python",
   "nbconvert_exporter": "python",
   "pygments_lexer": "ipython3",
   "version": "3.10.1"
  }
 },
 "nbformat": 4,
 "nbformat_minor": 5
}
