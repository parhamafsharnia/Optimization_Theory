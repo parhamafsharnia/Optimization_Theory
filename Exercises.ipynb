{
 "cells": [
  {
   "cell_type": "code",
   "execution_count": 128,
   "id": "11d38f9e",
   "metadata": {
    "ExecuteTime": {
     "end_time": "2023-10-18T16:29:02.671004Z",
     "start_time": "2023-10-18T16:29:02.667996Z"
    }
   },
   "outputs": [],
   "source": [
    "import numpy as np"
   ]
  },
  {
   "cell_type": "code",
   "execution_count": 129,
   "id": "71bbb3c9",
   "metadata": {
    "ExecuteTime": {
     "end_time": "2023-10-18T16:29:05.240076Z",
     "start_time": "2023-10-18T16:29:05.231506Z"
    }
   },
   "outputs": [
    {
     "data": {
      "text/plain": [
       "(5, 1)"
      ]
     },
     "execution_count": 129,
     "metadata": {},
     "output_type": "execute_result"
    }
   ],
   "source": [
    "# implementing a vector generator\n",
    "def vectorGenerator(lower_bound=-10, \n",
    "                    upper_bound=10,\n",
    "                    row_number=5):\n",
    "    import random\n",
    "    import numpy as np\n",
    "    # list of row_number elements, going between lower_bound and upper_bound\n",
    "    lst = [random.randint(lower_bound, upper_bound) for _ in range(rowNumber)]\n",
    "    return np.transpose(np.array([lst]))\n",
    "vectorGenerator().shape\n",
    "# https://www2.lawrence.edu/fast/GREGGJ/Python/numpy/numpyLA.html"
   ]
  },
  {
   "cell_type": "markdown",
   "id": "89391293",
   "metadata": {
    "ExecuteTime": {
     "end_time": "2023-10-18T15:40:21.037464Z",
     "start_time": "2023-10-18T15:40:21.031477Z"
    }
   },
   "source": [
    "### Projection Formula\n",
    "projecting x2 on x1:\n",
    "    xt = (x1 . x2 / ||x1|| ^ 2) * x1"
   ]
  },
  {
   "cell_type": "code",
   "execution_count": 130,
   "id": "22bcf267",
   "metadata": {
    "ExecuteTime": {
     "end_time": "2023-10-18T16:29:30.200869Z",
     "start_time": "2023-10-18T16:29:30.196179Z"
    }
   },
   "outputs": [],
   "source": [
    "# implementing a simple dot product function\n",
    "def dotProduct(vec1, vec2):\n",
    "    sumResult = 0\n",
    "    for i in range (len(vec1)):\n",
    "        sumResult += vec1[i, 0] * vec2[i, 0]\n",
    "    return sumResult"
   ]
  },
  {
   "cell_type": "code",
   "execution_count": 131,
   "id": "9aa4417b",
   "metadata": {
    "ExecuteTime": {
     "end_time": "2023-10-18T16:29:31.831758Z",
     "start_time": "2023-10-18T16:29:31.828298Z"
    }
   },
   "outputs": [],
   "source": [
    "def vecNorm(vec):\n",
    "    import math\n",
    "    sumResult = 0\n",
    "    for e in range(len(vec)):\n",
    "        sumResult += vec[e, 0] ** 2\n",
    "    return math.sqrt(sumResult)"
   ]
  },
  {
   "cell_type": "code",
   "execution_count": 132,
   "id": "e4f20584",
   "metadata": {
    "ExecuteTime": {
     "end_time": "2023-10-18T16:29:34.331473Z",
     "start_time": "2023-10-18T16:29:34.328130Z"
    }
   },
   "outputs": [],
   "source": [
    "# v2 on v1\n",
    "def vectorProjection(vec1, vec2):\n",
    "    return (dotProduct(vec1=vec1, vec2=vec2) / (vecNorm(vec=vec1)) ** 2) * vec1"
   ]
  },
  {
   "cell_type": "code",
   "execution_count": 134,
   "id": "d815b26c",
   "metadata": {
    "ExecuteTime": {
     "end_time": "2023-10-18T16:30:48.709545Z",
     "start_time": "2023-10-18T16:30:48.703976Z"
    }
   },
   "outputs": [
    {
     "data": {
      "text/plain": [
       "array([[ 1.23076923],\n",
       "       [-1.96923077],\n",
       "       [ 0.49230769],\n",
       "       [-0.24615385],\n",
       "       [-1.47692308]])"
      ]
     },
     "execution_count": 134,
     "metadata": {},
     "output_type": "execute_result"
    }
   ],
   "source": [
    "vec1 = vectorGenerator()\n",
    "vec2 = vectorGenerator()\n",
    "vectorProjection(vec1, vec2)"
   ]
  }
 ],
 "metadata": {
  "kernelspec": {
   "display_name": "Python 3 (ipykernel)",
   "language": "python",
   "name": "python3"
  },
  "language_info": {
   "codemirror_mode": {
    "name": "ipython",
    "version": 3
   },
   "file_extension": ".py",
   "mimetype": "text/x-python",
   "name": "python",
   "nbconvert_exporter": "python",
   "pygments_lexer": "ipython3",
   "version": "3.10.1"
  }
 },
 "nbformat": 4,
 "nbformat_minor": 5
}
